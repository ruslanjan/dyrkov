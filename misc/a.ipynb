{
 "cells": [
  {
   "cell_type": "code",
   "execution_count": null,
   "metadata": {
    "collapsed": true,
    "pycharm": {
     "name": "#%%\n"
    }
   },
   "outputs": [],
   "source": []
  },
  {
   "cell_type": "code",
   "execution_count": 1,
   "outputs": [],
   "source": [
    "import memprocfs"
   ],
   "metadata": {
    "collapsed": false,
    "pycharm": {
     "name": "#%%\n"
    }
   }
  },
  {
   "cell_type": "code",
   "execution_count": 2,
   "outputs": [
    {
     "name": "stdout",
     "output_type": "stream",
     "text": [
      "VmmPyPluginLight: Register 'reg/net/bth_devices.txt'\n",
      "VmmPyPluginLight: Register 'reg/net/tcpip_interfaces.txt'\n",
      "VmmPyPluginLight: Register 'reg/usb/usb_devices.txt'\n",
      "VmmPyPluginLight: Register 'reg/usb/usb_storage.txt'\n",
      "VmmPyPluginLight: Register 'by-user/reg/user/wallpaper.txt'\n"
     ]
    }
   ],
   "source": [
    "vmm = memprocfs.Vmm(['-device', 'fpga', '-v', '-printf'])"
   ],
   "metadata": {
    "collapsed": false,
    "pycharm": {
     "name": "#%%\n"
    }
   }
  },
  {
   "cell_type": "code",
   "execution_count": 3,
   "outputs": [
    {
     "data": {
      "text/plain": "44040"
     },
     "execution_count": 3,
     "metadata": {},
     "output_type": "execute_result"
    }
   ],
   "source": [
    "process = vmm.process('Escape'+ 'FromTa'+'rkov.exe')\n",
    "process.pid"
   ],
   "metadata": {
    "collapsed": false,
    "pycharm": {
     "name": "#%%\n"
    }
   }
  },
  {
   "cell_type": "code",
   "execution_count": 4,
   "outputs": [
    {
     "data": {
      "text/plain": "<function VmmProcess.module>"
     },
     "execution_count": 4,
     "metadata": {},
     "output_type": "execute_result"
    }
   ],
   "source": [
    "process.module"
   ],
   "metadata": {
    "collapsed": false,
    "pycharm": {
     "name": "#%%\n"
    }
   }
  },
  {
   "cell_type": "code",
   "execution_count": 5,
   "outputs": [
    {
     "data": {
      "text/plain": "Module:44040:UnityPlayer.dll"
     },
     "execution_count": 5,
     "metadata": {},
     "output_type": "execute_result"
    }
   ],
   "source": [
    "m = process.module(\"UnityPlayer.dll\")\n",
    "m"
   ],
   "metadata": {
    "collapsed": false,
    "pycharm": {
     "name": "#%%\n"
    }
   }
  },
  {
   "cell_type": "code",
   "execution_count": 6,
   "outputs": [
    {
     "data": {
      "text/plain": "'0x7fffcf0e0000'"
     },
     "execution_count": 6,
     "metadata": {},
     "output_type": "execute_result"
    }
   ],
   "source": [
    "hex(m.base)"
   ],
   "metadata": {
    "collapsed": false,
    "pycharm": {
     "name": "#%%\n"
    }
   }
  },
  {
   "cell_type": "code",
   "execution_count": 7,
   "outputs": [],
   "source": [
    "def read(addr: int, s: int) -> bytes: # read int 64\n",
    "    return process.memory.read(addr, s)\n",
    "def read_bool(addr: int) -> bool:\n",
    "    return process.memory.read(addr, 1) == 0\n",
    "\n",
    "def read_32(addr: int) -> int:\n",
    "    addr = int.from_bytes(read(addr, 0x4), 'little')\n",
    "    return addr\n",
    "\n",
    "def read_64(addr: int) -> int:\n",
    "    addr = int.from_bytes(read(addr, 0x8), 'little')\n",
    "    return addr\n",
    "def read_ptr(addr: int) -> int:\n",
    "    addr = read_64(addr)\n",
    "    if addr == 0x0:\n",
    "        raise Exception(\"NullPointerError\")\n",
    "    return addr\n",
    "\n",
    "def read_str(addr: int, s: int):\n",
    "    res = read(addr, s)\n",
    "    return res\n",
    "\n",
    "def read_unity_str(addr):\n",
    "    length = read_32(addr + Offsets.UnityString.Length)\n",
    "    # PAGE_SIZE = 0x1000\n",
    "    if length > 0x1000: raise DMAException(\"String length outside expected bounds!\")\n",
    "    buf = read(addr + Offsets.UnityString.Value, length*2)\n",
    "    return buf\n",
    "\n",
    "\n",
    "def read_ptr_chain(addr: int, offsets: list[int]):\n",
    "    if len(offsets) == 0:\n",
    "        return addr\n",
    "    return read_ptr_chain(read_ptr(addr + offsets[0]), offsets[1:])"
   ],
   "metadata": {
    "collapsed": false,
    "pycharm": {
     "name": "#%%\n"
    }
   }
  },
  {
   "cell_type": "markdown",
   "source": [],
   "metadata": {
    "collapsed": false,
    "pycharm": {
     "name": "#%% md\n"
    }
   }
  },
  {
   "cell_type": "code",
   "execution_count": 8,
   "outputs": [],
   "source": [
    "import struct\n",
    "import json\n",
    "\n",
    "class Offsets:\n",
    "    class UnityList:\n",
    "        Base = 0x10 # to UnityListBase\n",
    "        Count = 0x18 # int32\n",
    "    class UnityListBase:\n",
    "        Start = 0x20 # start of list +(i * 0x8)\n",
    "    class UnityString:\n",
    "        Length = 0x10 # int32\n",
    "        Value = 0x14 # string,unicode\n",
    "\n",
    "    class ModuleBase:\n",
    "        GameObjectManager = 0x17FFD28\n",
    "    class GameObject:\n",
    "        ObjectClass = 0x30\n",
    "        ObjectName = 0x60 # string,default (null terminated)\n",
    "    class GameWorld:\n",
    "        # [Offsets.GameObject.ObjectClass, 0x18, 28]\n",
    "        ToLocalGameWorld = [0x_30, 0x18, 0x28]\n",
    "    class LocalGameWorld:\n",
    "        ExfilController = 0x18\n",
    "        LootList = 0x70\n",
    "        RegisteredPlayers = 0x90\n",
    "        Grenades = 0x108\n",
    "\n",
    "    class Player:\n",
    "        # [ 0xA8, 0x28, 0x28, UnityList.Base, Offsets.UnityListBase.Start + (0 * 0x8), 0x10]\n",
    "        To_TransformInternal = [ 0xA8, 0x28, 0x28, 0x_10, 0x_20 + (0 * 0x8), 0x10]\n",
    "        MovementContext = 0x40\n",
    "        Corpse = 0x338\n",
    "        Profile = 0x4f0\n",
    "        HealthController = 0x528\n",
    "        InventoryController = 0x538\n",
    "        IsLocalPlayer = 0x807\n",
    "\n",
    "    class Profile:\n",
    "        Id = 0x10\n",
    "        AccountId = 0x18\n",
    "        PlayerInfo = 0x28\n",
    "        Stats = 0xE8\n",
    "\n",
    "    class PlayerInfo:\n",
    "        Nickname = 0x10 # unity string\n",
    "        MainProfileNickname = 0x18 # unity string\n",
    "        GroupId = 0x20 # ptr to UnityString (0/null if solo or bot)\n",
    "        Settings = 0x48 # to PlayerSettings\n",
    "        PlayerSide = 0x68 # int32\n",
    "        RegDate = 0x6C # int32\n",
    "        MemberCategory = 0x84 # int32 enum\n",
    "        Experience = 0x88 # int32\n",
    "\n",
    "\n",
    "    class HealthController:\n",
    "        # EFT.HealthSystem.HealthValue -> Value (ValueStruct)\n",
    "        To_HealthEntries = [0x58, 0x18] # to HealthEntries // if its wrong try { 0x50, 0x18 }\n",
    "\n",
    "    class HealthEntry:\n",
    "        Value = 0x10\n",
    "\n",
    "    class HealthValue:\n",
    "        Current = 0x0 # int32\n",
    "        Maximum = 0x4 # int32\n",
    "        Minimum = 0x8 # int32\n",
    "\n",
    "    class TransformInternal:\n",
    "        Hierarchy = 0x38 # to TransformHierarchy\n",
    "        HierarchyIndex = 0x40 # 32\n",
    "\n",
    "    class TransformHierarchy:\n",
    "        Vertices = 0x18 # List<Vector128<float>>\n",
    "        Indices = 0x20 # List<int>"
   ],
   "metadata": {
    "collapsed": false,
    "pycharm": {
     "name": "#%%\n"
    }
   }
  },
  {
   "cell_type": "code",
   "execution_count": 9,
   "outputs": [
    {
     "name": "stdout",
     "output_type": "stream",
     "text": [
      "GameObjectManager addr:  0x17fb0009930\n"
     ]
    }
   ],
   "source": [
    "gomp = int.from_bytes(process.memory.read(m.base + Offsets.ModuleBase.GameObjectManager, 0x8), 'little')\n",
    "print(\"GameObjectManager addr: \", hex(gomp))\n",
    "#q = m.memory.read(m.base, m.file_size)\n",
    "#print(m.file_size)\n",
    "#e = m.memory.read(m.base, 0x17FFD28 + 0xf0000)\n",
    "#vmm.close()"
   ],
   "metadata": {
    "collapsed": false,
    "pycharm": {
     "name": "#%%\n"
    }
   }
  },
  {
   "cell_type": "code",
   "execution_count": 10,
   "outputs": [
    {
     "data": {
      "text/plain": "{'LastTaggedNode': 1670792593752,\n 'TaggedNodes': 1658986839256,\n 'LastMainCameraTaggedNode': 1666592618216,\n 'MainCameraTaggedNodes': 1666592618216,\n 'LastActiveNode': 1649210931768,\n 'ActiveNodes': 1655711884440}"
     },
     "execution_count": 10,
     "metadata": {},
     "output_type": "execute_result"
    }
   ],
   "source": [
    "class GameObjectManager:\n",
    "    LastTaggedNode: int # 0x0\n",
    "    TaggedNodes: int # 0x8\n",
    "    LastMainCameraTaggedNode: int # 0x10\n",
    "    MainCameraTaggedNodes: int # 0x18\n",
    "    LastActiveNode: int # 0x20\n",
    "    ActiveNodes: int # 0x28\n",
    "\n",
    "\n",
    "    def __init__(self, addr: int):\n",
    "        self.LastTaggedNode, self.TaggedNodes, \\\n",
    "        self.LastMainCameraTaggedNode, self.MainCameraTaggedNodes, \\\n",
    "        self.LastActiveNode, self.ActiveNodes \\\n",
    "        = struct.unpack('QQQQQQ', read(addr, 0x30))\n",
    "\n",
    "gom = GameObjectManager(gomp)\n",
    "vars(gom)"
   ],
   "metadata": {
    "collapsed": false,
    "pycharm": {
     "name": "#%%\n"
    }
   }
  },
  {
   "cell_type": "code",
   "execution_count": 11,
   "outputs": [
    {
     "name": "stdout",
     "output_type": "stream",
     "text": [
      "0000    58 c1 ff 02 85 01 00 00  d8 3c 52 43 82 01 00 00   X........<RC....\n",
      "0010    e8 36 a9 08 84 01 00 00  e8 36 a9 08 84 01 00 00   .6.......6......\n",
      "0020    38 ba a1 fc 7f 01 00 00  98 64 1e 80 81 01 00 00   8... ....d......\n",
      "0030    90 03 63 d0 ff 7f 00 00  84 29 66 d0 ff 7f 00 00   ..c.. ...)f.. ..\n",
      "0040    00 00 00 00 00 00 00 00  2f 4d 6f 6e 00 00 00 00   ......../Mon....\n",
      "0050    29 00 00 00 67 45 64 67  65 2f 65 74 63 00 00 00   )...gEdge/etc...\n",
      "0060    90 9f 00 b0 7f 01 00 00  f0 99 00 b0 7f 01 00 00   .... ....... ...\n",
      "0070    90 9f 00 b0 7f 01 00 00  00 00 6f 6e 6f 42 6c 65   .... .....onoBle\n",
      "0080    80 fe 41 cf ff 7f 00 00  65 2f 65 74 63 00 00 00   ..A.. ..e/etc...\n",
      "0090    00 00 00 00 00 00 00 00  00 00 00 00 00 00 00 00   ................\n",
      "00a0    d0 ed 06 b0 7f 01 00 00  02 00 00 00 00 00 00 00   .... ...........\n",
      "00b0    ff ff ff ff 00 00 00 00  72 00 20 00 39 00 00 00   ........r. .9...\n",
      "00c0    90 9f 00 b0 7f 01 00 00  90 9f 00 b0 7f 01 00 00   .... ....... ...\n",
      "00d0    90 99 00 b0 7f 01 00 00  01 00 52 00 65 00 61 00   .... .....R.e.a.\n",
      "00e0    b0 31 25 cf ff 7f 00 00  20 d8 8b d0 ff 7f 00 00   .1%.. .. .... ..\n",
      "00f0    43 3a 2f 55 73 65 72 73  2f 72 75 73 6c 61 2f 41   C:/Users/rusla/A\n",
      "0100    70 70 44 61 74 61 2f 4c  6f 63 61 6c 2f 54 65 6d   ppData/Local/Tem\n",
      "0110    70 2f 00 54 61 72 6b 6f  76 5f 44 61 74 61 00 00   p/.Tarkov_Data..\n",
      "0120    47 3a 2f 42 61 74 74 6c  65 73 74 61 74 65 20 47   G:/Battlestate G\n",
      "0130    61 6d 65 73 2f 45 46 54  2f 45 73 63 61 70 65 46   ames/EFT/EscapeF\n",
      "0140    72 6f 6d 54 61 72 6b 6f  76 5f 44 61 74 61 00 00   romTarkov_Data..\n",
      "0150    47 3a 2f 42 61 74 74 6c  65 73 74 61 74 65 20 47   G:/Battlestate G\n",
      "0160    61 6d 65 73 2f 45 46 54  2f 45 73 63 61 70 65 46   ames/EFT/EscapeF\n",
      "0170    72 6f 6d 54 61 72 6b 6f  76 5f 44 61 74 61 00 00   romTarkov_Data..\n",
      "0180    47 3a 2f 42 61 74 74 6c  65 73 74 61 74 65 20 47   G:/Battlestate G\n",
      "0190    61 6d 65 73 2f 45 46 54  2f 45 73 63 61 70 65 46   ames/EFT/EscapeF\n",
      "01a0    72 6f 6d 54 61 72 6b 6f  76 2e 65 78 65 00 00 00   romTarkov.exe...\n",
      "01b0    50 9a 00 b0 7f 01 00 00  2e 00 00 00 00 00 00 00   P... ...........\n",
      "01c0    00 00 00 00 00 00 00 00  2e 00 00 00 00 00 00 00   ................\n",
      "01d0    49 00 00 00 00 00 00 00  00 00 00 00 00 00 00 00   I...............\n",
      "01e0    a0 bc 00 b0 7f 01 00 00  a0 9b 00 b0 7f 01 00 00   .... ....... ...\n",
      "01f0    20 fa 3f f1 7f 01 00 00  00 00 00 00 00 00 00 00    .?. ...........\n",
      "\n"
     ]
    }
   ],
   "source": [
    "print(vmm.hex(read(gomp, 0x200)))"
   ],
   "metadata": {
    "collapsed": false,
    "pycharm": {
     "name": "#%%\n"
    }
   }
  },
  {
   "cell_type": "code",
   "execution_count": 12,
   "outputs": [],
   "source": [
    "import re\n",
    "\n",
    "class BaseObject:\n",
    "    previousObjectLink: int # 0x0\n",
    "    nextObjectLink: int # 0x8\n",
    "    obj: int # 0x10 (to Offsets.GameObject)\n",
    "\n",
    "    def __init__(self, addr: int):\n",
    "        # print(\"Unpacking BaseObject: \", hex(addr), read(addr, 0x18))\n",
    "        self.previousObjectLink, self.nextObjectLink, self.obj \\\n",
    "        = struct.unpack('QQQ', read(addr, 0x18))\n",
    "\n",
    "\n",
    "def get_object_from_list(active_objects_ptr: int, last_object_ptr: int, object_name: str):\n",
    "    active_object = BaseObject(read_ptr(read_ptr(active_objects_ptr)))\n",
    "    last_object = BaseObject(read_ptr(read_ptr(last_object_ptr)))\n",
    "    if active_object != 0:\n",
    "        while active_object.obj != 0 and active_object.obj != last_object.obj:\n",
    "            object_name_ptr = read_ptr(active_object.obj + Offsets.GameObject.ObjectName)\n",
    "            object_name_str = read_str(object_name_ptr, 64)\n",
    "            object_name_str = str(object_name_str.split(b\"\\x00\")[0])\n",
    "            if re.search(object_name, object_name_str, re.IGNORECASE):\n",
    "                print(\"Found object: \", object_name_str)\n",
    "                return active_object.obj\n",
    "            active_object = BaseObject(active_object.nextObjectLink)\n",
    "    print(\"Could not find object: \", object_name, \"Maybe not in raid\")\n",
    "# gw = get_object_from_list(gom.ActiveNodes, gom.LastActiveNode, \"GameWorld\");"
   ],
   "metadata": {
    "collapsed": false,
    "pycharm": {
     "name": "#%%\n"
    }
   }
  },
  {
   "cell_type": "code",
   "execution_count": 13,
   "outputs": [],
   "source": [
    "from time import sleep\n",
    "from execeptions import *\n",
    "import codecs\n",
    "\n",
    "\n",
    "class Transform:\n",
    "    _isPlayerTransform = False\n",
    "\n",
    "    IndicesAddr: int # 64\n",
    "    VerticesAddr: int # 64\n",
    "    HierarchyIndex: int # 32\n",
    "\n",
    "    def __init__(self, transform_internal: int, is_player_transform = False):\n",
    "        hierarchy = read_64(transform_internal + Offsets.TransformInternal.Hierarchy)\n",
    "        self.IndicesAddr = read_64(hierarchy + Offsets.TransformHierarchy.Indices)\n",
    "        self.VerticesAddr = read_64(hierarchy + Offsets.TransformHierarchy.Vertices)\n",
    "        self._isPlayerTransform = is_player_transform\n",
    "        if is_player_transform:\n",
    "            self.HierarchyIndex = 1\n",
    "        else:\n",
    "            self.HierarchyIndex = read_32(transform_internal + Offsets.TransformInternal.HierarchyIndex)\n",
    "\n",
    "    # def get_position(self, obj: int):\n",
    "    #     indices = []\n",
    "    #     vertices = []\n",
    "    #     if obj ==\n",
    "\n",
    "class Player:\n",
    "    # Player is a PMC Operator.\n",
    "    Base: int\n",
    "    Profile: int\n",
    "    Position: (float, float) = (0, 0)\n",
    "    Info: int\n",
    "    HealthEntries: list[int]\n",
    "    MovementContext: int\n",
    "    TransformInternal: int\n",
    "    _transform: Transform\n",
    "    IsPmc: bool\n",
    "\n",
    "    def get_account_id(self):\n",
    "        id_ptr = read_ptr(self.Profile + Offsets.Profile.Id)\n",
    "        return read_unity_str(id_ptr)\n",
    "\n",
    "    def __init__(self, base: int, profile: int, pos = None):\n",
    "        self.Base = base\n",
    "        self.Profile = profile\n",
    "        if pos is not None:\n",
    "            self.Position = pos\n",
    "        self.Info = read_ptr(profile + Offsets.Profile.PlayerInfo)\n",
    "        health_entries_list = read_ptr_chain(base, [\n",
    "            Offsets.Player.HealthController,\n",
    "            Offsets.HealthController.To_HealthEntries[0],\n",
    "            Offsets.HealthController.To_HealthEntries[1]\n",
    "        ])\n",
    "        self.HealthEntries = [0] * 7\n",
    "        for i in range(7):\n",
    "            self.HealthEntries[i] = read_ptr_chain(health_entries_list, [0x30 + (i*0x18), Offsets.HealthEntry.Value])\n",
    "\n",
    "        self.MovementContext = read_ptr(base + Offsets.Player.MovementContext)\n",
    "        self.TransformInternal = read_ptr(base + Offsets.Player.InventoryController)\n",
    "        self._transform = Transform(self.TransformInternal, True)\n",
    "        isLocalPlayer = read_bool(base + Offsets.Player.IsLocalPlayer)\n",
    "        playerSide = read_32(self.Info + Offsets.PlayerInfo.PlayerSide) # Scav, PMC, etc.\n",
    "        self.IsPmc = playerSide == 0x1 or playerSide == 0x2\n",
    "        if isLocalPlayer:\n",
    "            # Run this section while 'In-Raid' as a PMC (not Scav)\n",
    "            print(\"LocalPlayer Acct Id: \", self.get_account_id())\n",
    "\n",
    "\n",
    "\n",
    "class RegisteredPlayers:\n",
    "    _base: int\n",
    "    _listBase: int\n",
    "    _players = dict()\n",
    "\n",
    "    def get_player_count(self)->int:\n",
    "        for i in range(5): # Re-attempt if read fails\n",
    "            try:\n",
    "                count = int.from_bytes(process.memory.read(self._base + Offsets.UnityList.Count, 0x4), 'little')\n",
    "                if count < 1 or count > 1024:\n",
    "                    raise Exception(\"ArgumentOutOfRangeException: \", count)\n",
    "                return count\n",
    "            except Exception as e:\n",
    "                print(\"E: \", e)\n",
    "                sleep(1000)\n",
    "        return -1\n",
    "\n",
    "    def update_list(self):\n",
    "        count = self.get_player_count()\n",
    "        if count < 1 or count > 1024:\n",
    "            raise RaiseEnded()\n",
    "        registered = set()\n",
    "        for i in range(count):\n",
    "            try:\n",
    "                player_base = read_ptr(self._listBase + Offsets.UnityListBase.Start + i*0x8)\n",
    "                # print(vmm.hex(read(player_base, 0x900)))\n",
    "                player_profile = read_ptr(player_base + Offsets.Player.Profile)\n",
    "                player_id = read_ptr(player_profile + Offsets.Profile.Id)\n",
    "                player_id_len = read_32(player_id + Offsets.UnityString.Length)\n",
    "                player_id_str = read_str(player_id + Offsets.UnityString.Value, player_id_len*2)\n",
    "\n",
    "                if player_id_len != 24 and player_id_len != 27 and player_id_len != 36:\n",
    "                    print(hex(player_base), hex(player_profile), hex(player_id), player_id_len, codecs.decode(player_id_str).replace('\\x00', ''), \"OUT OF RANGE\")\n",
    "                    raise Exception(\"ArgumentOutOfRangeException player_id_len\")\n",
    "                print(hex(player_base), hex(player_profile), hex(player_id), player_id_len, codecs.decode(player_id_str).replace('\\x00', ''))\n",
    "                registered.add(player_id_str)\n",
    "                if self._players.get(player_id_str) is None:\n",
    "                    player = Player(player_base, player_profile)\n",
    "            except Exception as e:\n",
    "                print(\"Failed to read player: \", e)\n",
    "            # print(hex(player_base), hex(player_profile), hex(player_id), player_id_len, codecs.decode(player_id_str).replace('\\x00', ''))\n",
    "\n",
    "    # add stopwatch\n",
    "    def __init__(self, base: int):\n",
    "        self._base = base\n",
    "        self._listBase = read_ptr(self._base + Offsets.UnityList.Base)"
   ],
   "metadata": {
    "collapsed": false,
    "pycharm": {
     "name": "#%%\n"
    }
   }
  },
  {
   "cell_type": "code",
   "execution_count": 14,
   "outputs": [],
   "source": [
    "_rgtPlayers = None\n",
    "_localGameWorld = None\n",
    "def get_local_game_world():\n",
    "    global _rgtPlayers, _localGameWorld\n",
    "    game_world = get_object_from_list(gom.ActiveNodes, gom.LastActiveNode, \"GameWorld\")\n",
    "    # print(\"GameWorld: \", hex(game_world))\n",
    "    if game_world == 0:\n",
    "        print(\"Unable to find GameWorld Object, likely not in raid\")\n",
    "    _localGameWorld = read_ptr_chain(game_world, Offsets.GameWorld.ToLocalGameWorld)\n",
    "    # print(\"localGameWorld: \", hex(_localGameWorld))\n",
    "    rgt_players = RegisteredPlayers(read_ptr(_localGameWorld + Offsets.LocalGameWorld.RegisteredPlayers))\n",
    "    vars(rgt_players)\n",
    "    if rgt_players.get_player_count() > 1:\n",
    "        _rgtPlayers = rgt_players\n",
    "        return True"
   ],
   "metadata": {
    "collapsed": false,
    "pycharm": {
     "name": "#%%\n"
    }
   }
  },
  {
   "cell_type": "code",
   "execution_count": 15,
   "outputs": [
    {
     "name": "stdout",
     "output_type": "stream",
     "text": [
      "Found object:  b'GameWorld'\n"
     ]
    },
    {
     "data": {
      "text/plain": "True"
     },
     "execution_count": 15,
     "metadata": {},
     "output_type": "execute_result"
    }
   ],
   "source": [
    "get_local_game_world()"
   ],
   "metadata": {
    "collapsed": false,
    "pycharm": {
     "name": "#%%\n"
    }
   }
  },
  {
   "cell_type": "code",
   "execution_count": 16,
   "outputs": [
    {
     "data": {
      "text/plain": "5"
     },
     "execution_count": 16,
     "metadata": {},
     "output_type": "execute_result"
    }
   ],
   "source": [
    "_rgtPlayers.get_player_count()"
   ],
   "metadata": {
    "collapsed": false,
    "pycharm": {
     "name": "#%%\n"
    }
   }
  },
  {
   "cell_type": "code",
   "execution_count": 17,
   "outputs": [
    {
     "name": "stdout",
     "output_type": "stream",
     "text": [
      "0x1843ba59000 0x1838f160dd0 0x1838f15ff00 24 6302efa5541f793e320944c4\n",
      "0x18377043000 0x184c4fa8ee0 0x1844526e6c0 36 e87bbe14-59de-48ce-a3a1-0fc384bca67f OUT OF RANGE\n",
      "Failed to read player:  ArgumentOutOfRangeException player_id_len\n",
      "0x18557cd3000 0x184c5962110 0x1844526e9c0 36 ba70e378-d422-4bf2-a1dd-33b02ca0b2da OUT OF RANGE\n",
      "Failed to read player:  ArgumentOutOfRangeException player_id_len\n",
      "0x184c5b92000 0x184c5962330 0x1844526ed20 36 3ab79436-da79-4ee5-9612-3d2ecd6dd57c OUT OF RANGE\n",
      "Failed to read player:  ArgumentOutOfRangeException player_id_len\n",
      "0x18444cbe000 0x1844608bee0 0x184391fc900 36 54988438-5db4-4a44-bf41-4cdfd4e3ee98 OUT OF RANGE\n",
      "Failed to read player:  ArgumentOutOfRangeException player_id_len\n"
     ]
    }
   ],
   "source": [
    "_rgtPlayers.update_list()"
   ],
   "metadata": {
    "collapsed": false,
    "pycharm": {
     "name": "#%%\n"
    }
   }
  },
  {
   "cell_type": "code",
   "execution_count": 69,
   "outputs": [],
   "source": [
    "size = 10*0x8\n",
    "# gomb = process.memory.read(gom, 0x30)\n",
    "\n",
    "# hex(ActiveNodes)\n",
    "# scatter = process.memory.scatter_initialize(memprocfs.FLAG_NOCACHE)\n",
    "# scatter"
   ],
   "metadata": {
    "collapsed": false,
    "pycharm": {
     "name": "#%%\n"
    }
   }
  },
  {
   "cell_type": "code",
   "execution_count": 253,
   "outputs": [
    {
     "data": {
      "text/plain": "'0x1790e039e30'"
     },
     "execution_count": 253,
     "metadata": {},
     "output_type": "execute_result"
    }
   ],
   "source": [
    "# scatter.prepare(gom, size)\n",
    "# scatter.execute()\n",
    "_"
   ],
   "metadata": {
    "collapsed": false,
    "pycharm": {
     "name": "#%%\n"
    }
   }
  },
  {
   "cell_type": "code",
   "execution_count": 80,
   "outputs": [
    {
     "name": "stdout",
     "output_type": "stream",
     "text": [
      "0000    c8 20 f9 e1 76 01 00 00  e8 10 ed 92 73 01 00 00   . ..v.......s...\n",
      "0010    c8 77 a0 09 72 01 00 00  c8 77 a0 09 72 01 00 00   .w..r....w..r...\n",
      "0020    48 63 23 54 78 01 00 00  38 9f 3f 00 72 01 00 00   Hc#Tx...8.?.r...\n",
      "\n",
      "b''\n"
     ]
    }
   ],
   "source": [
    "# an = (scatter.read(gom+0x28, 0x8)) #ActiveNodes\n",
    "# print(vmm.hex(scatter.read(gom, 0x30)))\n",
    "# print(scatter.read(gom+0x9, 0x8))\n",
    "# size\n",
    "# scatter.close()"
   ],
   "metadata": {
    "collapsed": false,
    "pycharm": {
     "name": "#%%\n"
    }
   }
  },
  {
   "cell_type": "code",
   "execution_count": 18,
   "outputs": [],
   "source": [
    "vmm.close()"
   ],
   "metadata": {
    "collapsed": false,
    "pycharm": {
     "name": "#%%\n"
    }
   }
  },
  {
   "cell_type": "code",
   "execution_count": 64,
   "outputs": [
    {
     "data": {
      "text/plain": "b''"
     },
     "execution_count": 64,
     "metadata": {},
     "output_type": "execute_result"
    }
   ],
   "source": [
    "sb"
   ],
   "metadata": {
    "collapsed": false,
    "pycharm": {
     "name": "#%%\n"
    }
   }
  },
  {
   "cell_type": "code",
   "execution_count": 65,
   "outputs": [
    {
     "ename": "NameError",
     "evalue": "name 'q' is not defined",
     "output_type": "error",
     "traceback": [
      "\u001B[1;31m---------------------------------------------------------------------------\u001B[0m",
      "\u001B[1;31mNameError\u001B[0m                                 Traceback (most recent call last)",
      "Input \u001B[1;32mIn [65]\u001B[0m, in \u001B[0;36m<cell line: 1>\u001B[1;34m()\u001B[0m\n\u001B[1;32m----> 1\u001B[0m \u001B[43mq\u001B[49m\n",
      "\u001B[1;31mNameError\u001B[0m: name 'q' is not defined"
     ]
    }
   ],
   "source": [
    "q"
   ],
   "metadata": {
    "collapsed": false,
    "pycharm": {
     "name": "#%%\n"
    }
   }
  },
  {
   "cell_type": "code",
   "execution_count": 54,
   "outputs": [
    {
     "data": {
      "text/plain": "140718532919296"
     },
     "execution_count": 54,
     "metadata": {},
     "output_type": "execute_result"
    }
   ],
   "source": [
    "m.base"
   ],
   "metadata": {
    "collapsed": false,
    "pycharm": {
     "name": "#%%\n"
    }
   }
  },
  {
   "cell_type": "code",
   "execution_count": 31,
   "outputs": [
    {
     "data": {
      "text/plain": "983040"
     },
     "execution_count": 31,
     "metadata": {},
     "output_type": "execute_result"
    }
   ],
   "source": [
    "0xf0000"
   ],
   "metadata": {
    "collapsed": false,
    "pycharm": {
     "name": "#%%\n"
    }
   }
  },
  {
   "cell_type": "code",
   "execution_count": 52,
   "outputs": [
    {
     "ename": "OSError",
     "evalue": "[Errno 22] Invalid argument: 'bin3'",
     "output_type": "error",
     "traceback": [
      "\u001B[1;31m---------------------------------------------------------------------------\u001B[0m",
      "\u001B[1;31mOSError\u001B[0m                                   Traceback (most recent call last)",
      "Input \u001B[1;32mIn [52]\u001B[0m, in \u001B[0;36m<cell line: 1>\u001B[1;34m()\u001B[0m\n\u001B[1;32m----> 1\u001B[0m \u001B[38;5;28;01mwith\u001B[39;00m \u001B[38;5;28;43mopen\u001B[39;49m\u001B[43m(\u001B[49m\u001B[38;5;124;43m\"\u001B[39;49m\u001B[38;5;124;43mbin3\u001B[39;49m\u001B[38;5;124;43m\"\u001B[39;49m\u001B[43m,\u001B[49m\u001B[43m \u001B[49m\u001B[38;5;124;43m\"\u001B[39;49m\u001B[38;5;124;43mwb\u001B[39;49m\u001B[38;5;124;43m\"\u001B[39;49m\u001B[43m)\u001B[49m \u001B[38;5;28;01mas\u001B[39;00m bk:\n\u001B[0;32m      2\u001B[0m     bk\u001B[38;5;241m.\u001B[39mwrite(b)\n\u001B[0;32m      3\u001B[0m     bk\u001B[38;5;241m.\u001B[39mclose()\n",
      "\u001B[1;31mOSError\u001B[0m: [Errno 22] Invalid argument: 'bin3'"
     ]
    }
   ],
   "source": [
    "with open(\"bin3\", \"wb\") as bk:\n",
    "    bk.write(b)\n",
    "    bk.close()"
   ],
   "metadata": {
    "collapsed": false,
    "pycharm": {
     "name": "#%%\n"
    }
   }
  },
  {
   "cell_type": "code",
   "execution_count": 42,
   "outputs": [
    {
     "data": {
      "text/plain": "Process:5364"
     },
     "execution_count": 42,
     "metadata": {},
     "output_type": "execute_result"
    }
   ],
   "source": [
    "process"
   ],
   "metadata": {
    "collapsed": false,
    "pycharm": {
     "name": "#%%\n"
    }
   }
  },
  {
   "cell_type": "code",
   "execution_count": 50,
   "outputs": [
    {
     "data": {
      "text/plain": "-1"
     },
     "execution_count": 50,
     "metadata": {},
     "output_type": "execute_result"
    }
   ],
   "source": [
    "b.find(\"Herr\")"
   ],
   "metadata": {
    "collapsed": false,
    "pycharm": {
     "name": "#%%\n"
    }
   }
  },
  {
   "cell_type": "code",
   "execution_count": null,
   "outputs": [],
   "source": [],
   "metadata": {
    "collapsed": false,
    "pycharm": {
     "name": "#%%\n"
    }
   }
  }
 ],
 "metadata": {
  "kernelspec": {
   "display_name": "Python 3",
   "language": "python",
   "name": "python3"
  },
  "language_info": {
   "codemirror_mode": {
    "name": "ipython",
    "version": 2
   },
   "file_extension": ".py",
   "mimetype": "text/x-python",
   "name": "python",
   "nbconvert_exporter": "python",
   "pygments_lexer": "ipython2",
   "version": "2.7.6"
  }
 },
 "nbformat": 4,
 "nbformat_minor": 0
}